{
 "cells": [
  {
   "cell_type": "code",
   "execution_count": null,
   "id": "78e00e6a-7e2c-4233-8420-7c5279ef288e",
   "metadata": {},
   "outputs": [],
   "source": []
  }
 ],
 "metadata": {
  "kernelspec": {
   "display_name": "",
   "name": ""
  },
  "language_info": {
   "name": ""
  }
 },
 "nbformat": 4,
 "nbformat_minor": 5
}
